{
  "nbformat": 4,
  "nbformat_minor": 5,
  "metadata": {
    "colab": {
      "name": "eda_univariate_analysis.ipynb",
      "provenance": [],
      "collapsed_sections": [],
      "include_colab_link": true
    },
    "kernelspec": {
      "display_name": "Python 3",
      "language": "python",
      "name": "python3"
    },
    "language_info": {
      "codemirror_mode": {
        "name": "ipython",
        "version": 3
      },
      "file_extension": ".py",
      "mimetype": "text/x-python",
      "name": "python",
      "nbconvert_exporter": "python",
      "pygments_lexer": "ipython3",
      "version": "3.9.6"
    }
  },
  "cells": [
    {
      "cell_type": "markdown",
      "metadata": {
        "id": "view-in-github",
        "colab_type": "text"
      },
      "source": [
        "<a href=\"https://colab.research.google.com/github/cristripoli/Codility/blob/master/eda_univariate_analysis.ipynb\" target=\"_parent\"><img src=\"https://colab.research.google.com/assets/colab-badge.svg\" alt=\"Open In Colab\"/></a>"
      ]
    },
    {
      "cell_type": "markdown",
      "metadata": {
        "id": "069bf336-4718-4aa0-9df6-77e3fa0f853e"
      },
      "source": [
        "Before we start, a little bit of context.\n",
        "\n",
        "Here, we gonna use the *mobile_prices* dataset (adapted from: https://www.kaggle.com/iabhishekofficial/mobile-price-classification).\n",
        "\n",
        "It is a dataset about the specifications of different mobile devices, such as cell phones, smartphones and tablets. The dataset originally had a total of 2000 rows and 13 columns. Each row represents a mobile device, while the columns represent the collected specs."
      ],
      "id": "069bf336-4718-4aa0-9df6-77e3fa0f853e"
    },
    {
      "cell_type": "markdown",
      "metadata": {
        "id": "9577c32f-d2e5-4602-b7c8-e9d5a72a1652",
        "tags": []
      },
      "source": [
        "# Univariate analysis"
      ],
      "id": "9577c32f-d2e5-4602-b7c8-e9d5a72a1652"
    },
    {
      "cell_type": "code",
      "metadata": {
        "id": "12bd6e98-d7c2-48cc-8b1f-f56b359fed36"
      },
      "source": [
        "import numpy as np\n",
        "import pandas as pd\n",
        "import seaborn as sns"
      ],
      "id": "12bd6e98-d7c2-48cc-8b1f-f56b359fed36",
      "execution_count": null,
      "outputs": []
    },
    {
      "cell_type": "markdown",
      "metadata": {
        "id": "54b24874-e004-4462-898d-44da2e6744be"
      },
      "source": [
        "The goal of the univariate analysis is individually analyze each variable in the dataset, classify them as qualitative and quantitative, obtain charts and measures that summarize their behavior, etc.\n",
        "\n",
        "> **Note**\n",
        ">\n",
        "> We call the columns of our dataset variable or attribute.\n",
        ">\n",
        "> For example, in the case of a dataset that has the columns: `name | age | weight`,\n",
        "> each of these columns is a variable.\n",
        ">\n",
        "> The term variable comes from a statistical bias (ie, random variables). The term attribute, on the other hand, has a bias from the machine learning community."
      ],
      "id": "54b24874-e004-4462-898d-44da2e6744be"
    },
    {
      "cell_type": "markdown",
      "metadata": {
        "id": "36e20be2-24e8-4e01-8d80-23ad691b0ce5"
      },
      "source": [
        "## Data Types\n",
        "\n",
        "The first step in Exploratory Data Analysis is to identify **what types of variables we will work with**.\n",
        "\n",
        "We divided the data into 2 types (that also have their divisions): qualitative and quantitative!\n",
        "\n",
        "### Qualitative Data\n",
        "Qualitative data is data that represents properties (or categories/classes). For example, sex, blood type, eye color are qualities of a person.\n",
        "\n",
        "Qualitative data is divided into two ways:\n",
        "\n",
        "- **Nominal data.** Data whose categories do not have a defined order or scale for them. For example, the _blue_ eye color is no greater than the _green_ color.\n",
        "- **Ordinal data.** Data whose categories have a defined order or scale for them. For example, we can have a variable that expresses how hot the day is and the possible values (categories) are: \"Very Cold\", \"Cold\", \"Warm\", \"Very Hot\". Note that we have an order relationship between categories. After all, \"Cold\" is hotter than \"Very Cold\" and less hot than \"Hot\".\n",
        "\n",
        "> Some authors also include the \"binary\" type.\n",
        ">\n",
        "> The binary type is nothing more than a nominal qualitative variable with only two categories.\n",
        "\n",
        "### Quantitative Data\n",
        "Quantitative data are numerical values that represent quantities. For example height, weight, age.\n",
        "\n",
        "Quantitative data is divided into two ways:\n",
        "\n",
        "- **Discrete.** Integer numeric values, such as: -2, -1, 0, 1, 2, ...\n",
        "\n",
        "- **Continuous.** Numeric values with decimal places, such as: 1.34, 1.61, 2.54"
      ],
      "id": "36e20be2-24e8-4e01-8d80-23ad691b0ce5"
    },
    {
      "cell_type": "markdown",
      "metadata": {
        "id": "3e16a25e-dd00-4b65-83c6-dc64ae5a389b"
      },
      "source": [
        "By importing our dataset and printing it to the screen, we can already get some insight into the data type of each column."
      ],
      "id": "3e16a25e-dd00-4b65-83c6-dc64ae5a389b"
    },
    {
      "cell_type": "code",
      "metadata": {
        "id": "c54a8950-6d82-4463-8bd5-57a2b6425bae"
      },
      "source": [
        "df = pd.read_csv(\"https://raw.githubusercontent.com/daitan-innovation/daitan-ml-course-resources/main/raw.csv\")"
      ],
      "id": "c54a8950-6d82-4463-8bd5-57a2b6425bae",
      "execution_count": null,
      "outputs": []
    },
    {
      "cell_type": "code",
      "metadata": {
        "colab": {
          "base_uri": "https://localhost:8080/",
          "height": 417
        },
        "id": "e76d73fa-97c0-4280-a271-8491628b073b",
        "outputId": "098c8b41-f699-4624-ac3c-8880a42d69c5"
      },
      "source": [
        "df"
      ],
      "id": "e76d73fa-97c0-4280-a271-8491628b073b",
      "execution_count": null,
      "outputs": [
        {
          "data": {
            "text/html": [
              "<div>\n",
              "<style scoped>\n",
              "    .dataframe tbody tr th:only-of-type {\n",
              "        vertical-align: middle;\n",
              "    }\n",
              "\n",
              "    .dataframe tbody tr th {\n",
              "        vertical-align: top;\n",
              "    }\n",
              "\n",
              "    .dataframe thead th {\n",
              "        text-align: right;\n",
              "    }\n",
              "</style>\n",
              "<table border=\"1\" class=\"dataframe\">\n",
              "  <thead>\n",
              "    <tr style=\"text-align: right;\">\n",
              "      <th></th>\n",
              "      <th>battery_power</th>\n",
              "      <th>battery_duration</th>\n",
              "      <th>clock_speed</th>\n",
              "      <th>n_cores</th>\n",
              "      <th>storage</th>\n",
              "      <th>ram</th>\n",
              "      <th>principal_camera</th>\n",
              "      <th>wifi</th>\n",
              "      <th>4G</th>\n",
              "      <th>weight</th>\n",
              "      <th>price</th>\n",
              "      <th>operating_system</th>\n",
              "      <th>brand</th>\n",
              "    </tr>\n",
              "  </thead>\n",
              "  <tbody>\n",
              "    <tr>\n",
              "      <th>0</th>\n",
              "      <td>800</td>\n",
              "      <td>18</td>\n",
              "      <td>2.2</td>\n",
              "      <td>2</td>\n",
              "      <td>4</td>\n",
              "      <td>2GB</td>\n",
              "      <td>1.0</td>\n",
              "      <td>1</td>\n",
              "      <td>False</td>\n",
              "      <td>27</td>\n",
              "      <td>1334.153600</td>\n",
              "      <td>Android</td>\n",
              "      <td>Motorola</td>\n",
              "    </tr>\n",
              "    <tr>\n",
              "      <th>1</th>\n",
              "      <td>1000</td>\n",
              "      <td>66</td>\n",
              "      <td>0.5</td>\n",
              "      <td>2</td>\n",
              "      <td>32</td>\n",
              "      <td>2GB</td>\n",
              "      <td>4.0</td>\n",
              "      <td>0</td>\n",
              "      <td>True</td>\n",
              "      <td>81</td>\n",
              "      <td>1214.824488</td>\n",
              "      <td>iOS</td>\n",
              "      <td>Apple</td>\n",
              "    </tr>\n",
              "    <tr>\n",
              "      <th>2</th>\n",
              "      <td>500</td>\n",
              "      <td>20</td>\n",
              "      <td>0.5</td>\n",
              "      <td>4</td>\n",
              "      <td>32</td>\n",
              "      <td>2GB</td>\n",
              "      <td>2.0</td>\n",
              "      <td>0</td>\n",
              "      <td>True</td>\n",
              "      <td>520</td>\n",
              "      <td>1497.645431</td>\n",
              "      <td>iOS</td>\n",
              "      <td>Apple</td>\n",
              "    </tr>\n",
              "    <tr>\n",
              "      <th>3</th>\n",
              "      <td>600</td>\n",
              "      <td>4</td>\n",
              "      <td>2.5</td>\n",
              "      <td>4</td>\n",
              "      <td>8</td>\n",
              "      <td>2GB</td>\n",
              "      <td>4.0</td>\n",
              "      <td>0</td>\n",
              "      <td>False</td>\n",
              "      <td>635</td>\n",
              "      <td>1372.170792</td>\n",
              "      <td>iOS</td>\n",
              "      <td>Apple</td>\n",
              "    </tr>\n",
              "    <tr>\n",
              "      <th>4</th>\n",
              "      <td>1800</td>\n",
              "      <td>75</td>\n",
              "      <td>1.2</td>\n",
              "      <td>2</td>\n",
              "      <td>32</td>\n",
              "      <td>1GB</td>\n",
              "      <td>13.0</td>\n",
              "      <td>0</td>\n",
              "      <td>True</td>\n",
              "      <td>365</td>\n",
              "      <td>805.788544</td>\n",
              "      <td>Android</td>\n",
              "      <td>Motorola</td>\n",
              "    </tr>\n",
              "    <tr>\n",
              "      <th>...</th>\n",
              "      <td>...</td>\n",
              "      <td>...</td>\n",
              "      <td>...</td>\n",
              "      <td>...</td>\n",
              "      <td>...</td>\n",
              "      <td>...</td>\n",
              "      <td>...</td>\n",
              "      <td>...</td>\n",
              "      <td>...</td>\n",
              "      <td>...</td>\n",
              "      <td>...</td>\n",
              "      <td>...</td>\n",
              "      <td>...</td>\n",
              "    </tr>\n",
              "    <tr>\n",
              "      <th>1995</th>\n",
              "      <td>700</td>\n",
              "      <td>23</td>\n",
              "      <td>0.5</td>\n",
              "      <td>4</td>\n",
              "      <td>2</td>\n",
              "      <td>0.512GB</td>\n",
              "      <td>2.0</td>\n",
              "      <td>0</td>\n",
              "      <td>True</td>\n",
              "      <td>772</td>\n",
              "      <td>1438.519158</td>\n",
              "      <td>Android</td>\n",
              "      <td>LG</td>\n",
              "    </tr>\n",
              "    <tr>\n",
              "      <th>1996</th>\n",
              "      <td>1900</td>\n",
              "      <td>18</td>\n",
              "      <td>2.6</td>\n",
              "      <td>4</td>\n",
              "      <td>32</td>\n",
              "      <td>1GB</td>\n",
              "      <td>2.0</td>\n",
              "      <td>1</td>\n",
              "      <td>False</td>\n",
              "      <td>293</td>\n",
              "      <td>957.569984</td>\n",
              "      <td>iOS</td>\n",
              "      <td>Apple</td>\n",
              "    </tr>\n",
              "    <tr>\n",
              "      <th>1997</th>\n",
              "      <td>1900</td>\n",
              "      <td>26</td>\n",
              "      <td>0.9</td>\n",
              "      <td>8</td>\n",
              "      <td>32</td>\n",
              "      <td>2GB</td>\n",
              "      <td>1.0</td>\n",
              "      <td>0</td>\n",
              "      <td>True</td>\n",
              "      <td>688</td>\n",
              "      <td>1047.130936</td>\n",
              "      <td>Android</td>\n",
              "      <td>Xiaomi</td>\n",
              "    </tr>\n",
              "    <tr>\n",
              "      <th>1998</th>\n",
              "      <td>1500</td>\n",
              "      <td>33</td>\n",
              "      <td>0.9</td>\n",
              "      <td>4</td>\n",
              "      <td>32</td>\n",
              "      <td>0.512GB</td>\n",
              "      <td>4.0</td>\n",
              "      <td>1</td>\n",
              "      <td>True</td>\n",
              "      <td>573</td>\n",
              "      <td>1273.602061</td>\n",
              "      <td>iOS</td>\n",
              "      <td>Apple</td>\n",
              "    </tr>\n",
              "    <tr>\n",
              "      <th>1999</th>\n",
              "      <td>500</td>\n",
              "      <td>4</td>\n",
              "      <td>2.0</td>\n",
              "      <td>4</td>\n",
              "      <td>32</td>\n",
              "      <td>2GB</td>\n",
              "      <td>5.0</td>\n",
              "      <td>1</td>\n",
              "      <td>True</td>\n",
              "      <td>364</td>\n",
              "      <td>1597.983612</td>\n",
              "      <td>Android</td>\n",
              "      <td>Xiaomi</td>\n",
              "    </tr>\n",
              "  </tbody>\n",
              "</table>\n",
              "<p>2000 rows × 13 columns</p>\n",
              "</div>"
            ],
            "text/plain": [
              "     battery_power  battery_duration  clock_speed  n_cores  storage      ram  \\\n",
              "0              800                18          2.2        2        4      2GB   \n",
              "1             1000                66          0.5        2       32      2GB   \n",
              "2              500                20          0.5        4       32      2GB   \n",
              "3              600                 4          2.5        4        8      2GB   \n",
              "4             1800                75          1.2        2       32      1GB   \n",
              "...            ...               ...          ...      ...      ...      ...   \n",
              "1995           700                23          0.5        4        2  0.512GB   \n",
              "1996          1900                18          2.6        4       32      1GB   \n",
              "1997          1900                26          0.9        8       32      2GB   \n",
              "1998          1500                33          0.9        4       32  0.512GB   \n",
              "1999           500                 4          2.0        4       32      2GB   \n",
              "\n",
              "      principal_camera  wifi     4G  weight        price operating_system  \\\n",
              "0                  1.0     1  False      27  1334.153600          Android   \n",
              "1                  4.0     0   True      81  1214.824488              iOS   \n",
              "2                  2.0     0   True     520  1497.645431              iOS   \n",
              "3                  4.0     0  False     635  1372.170792              iOS   \n",
              "4                 13.0     0   True     365   805.788544          Android   \n",
              "...                ...   ...    ...     ...          ...              ...   \n",
              "1995               2.0     0   True     772  1438.519158          Android   \n",
              "1996               2.0     1  False     293   957.569984              iOS   \n",
              "1997               1.0     0   True     688  1047.130936          Android   \n",
              "1998               4.0     1   True     573  1273.602061              iOS   \n",
              "1999               5.0     1   True     364  1597.983612          Android   \n",
              "\n",
              "         brand  \n",
              "0     Motorola  \n",
              "1        Apple  \n",
              "2        Apple  \n",
              "3        Apple  \n",
              "4     Motorola  \n",
              "...        ...  \n",
              "1995        LG  \n",
              "1996     Apple  \n",
              "1997    Xiaomi  \n",
              "1998     Apple  \n",
              "1999    Xiaomi  \n",
              "\n",
              "[2000 rows x 13 columns]"
            ]
          },
          "execution_count": 3,
          "metadata": {},
          "output_type": "execute_result"
        }
      ]
    },
    {
      "cell_type": "markdown",
      "metadata": {
        "id": "6a95fe38-f2e1-4d05-bd79-3af7d6128d77"
      },
      "source": [
        "To start with, we can sort each column as follows:\n",
        "\n",
        "- **`battery_power`.** Discrete Qualitative\n",
        "- **`battery_duration.`** Discrete Qualitative\n",
        "- **`clock_speed`.** Continuous Quantitative\n",
        "- **`n_cores`.** Qualitative Ordinal*\n",
        "- **`storage`.** Qualitative Ordinal*\n",
        "- **`ram`.** Qualitative Ordinal*\n",
        "- **`principal_camera`.** Discrete Quantitative\n",
        "- **`wifi`.** Nominal Qualitative (Binary)\n",
        "- **`4G`.** Nominal Qualitative (Binary)\n",
        "- **`weight`** Discrete Quantitative\n",
        "- **`price`.** Continuous Quantitative\n",
        "- **`operating_system`.** Nominal Qualitative\n",
        "- **`brand`.** Nominal Qualitative\n",
        "\n",
        "However, this classification may generate some doubts.\n",
        "\n",
        "1. When is a variable discrete or ordinal?\n",
        "2. What ensures that all my data is represented as the sorted type? For example, we can find a value of `701.10` in `battery_power`.\n"
      ],
      "id": "6a95fe38-f2e1-4d05-bd79-3af7d6128d77"
    },
    {
      "cell_type": "markdown",
      "metadata": {
        "id": "1bba98bc-4c8c-4a99-afd7-7e008892abe6"
      },
      "source": [
        "## Discrete vs Ordinal\n",
        "\n",
        "Categorization between discrete and ordinal depends on your data domain, your domain knowledge as an analyst, and how you intend to interpret the variable in question.\n",
        "\n",
        "In our case, it may be more interesting to interpret the amount of RAM memory on a mobile device as ordinal, because:\n",
        "\n",
        "- There are few possible values\n",
        "- These are default values\n",
        "- By interpreting as ordinal, it is possible to separate devices into different RAM categories.\n",
        "\n",
        "Battery capacity can contain a wide range of values and we may be interested in identifying questions such as: what is the average battery capacity? what are the first and third quartiles? etc."
      ],
      "id": "1bba98bc-4c8c-4a99-afd7-7e008892abe6"
    },
    {
      "cell_type": "markdown",
      "metadata": {
        "id": "b749836a-91dc-4d2f-9acf-1db2d6442805"
      },
      "source": [
        "## Formatting and Data Consistency\n",
        "\n",
        "In fact, nothing guarantees that the data we will be working with will be perfectly formatted and consistent. This is exactly why one of the stages in the life cycle of an ML project is **data cleaning**.\n",
        "\n",
        "From the perspective of exploratory data analysis, we can clean the data both before and after the analysis. Each choice has pros and cons (we'll discuss about them in the **Data Cleansing** section).\n",
        "\n",
        "However, formatting the data to be consistent for analysis is a critical step in the EDA process.\n",
        "\n",
        "> Note that data cleaning is more than just formatting!\n",
        "\n",
        "A common practice to identify possible inconsistencies in the data is to check if the column type matches the way we sort the data. If not, then we do whatever is necessary to format it and leave the data as expected."
      ],
      "id": "b749836a-91dc-4d2f-9acf-1db2d6442805"
    },
    {
      "cell_type": "code",
      "metadata": {
        "colab": {
          "base_uri": "https://localhost:8080/"
        },
        "id": "bcf4136f-db42-4f06-b559-cfc1cff251e9",
        "outputId": "edc6809e-4ac7-4902-fbda-75f3763ccf3a"
      },
      "source": [
        "df.info()"
      ],
      "id": "bcf4136f-db42-4f06-b559-cfc1cff251e9",
      "execution_count": null,
      "outputs": [
        {
          "name": "stdout",
          "output_type": "stream",
          "text": [
            "<class 'pandas.core.frame.DataFrame'>\n",
            "RangeIndex: 2000 entries, 0 to 1999\n",
            "Data columns (total 13 columns):\n",
            " #   Column            Non-Null Count  Dtype  \n",
            "---  ------            --------------  -----  \n",
            " 0   battery_power     2000 non-null   object \n",
            " 1   battery_duration  2000 non-null   int64  \n",
            " 2   clock_speed       2000 non-null   float64\n",
            " 3   n_cores           2000 non-null   int64  \n",
            " 4   storage           2000 non-null   int64  \n",
            " 5   ram               2000 non-null   object \n",
            " 6   principal_camera  1989 non-null   float64\n",
            " 7   wifi              2000 non-null   int64  \n",
            " 8   4G                2000 non-null   bool   \n",
            " 9   weight            2000 non-null   int64  \n",
            " 10  price             2000 non-null   float64\n",
            " 11  operating_system  2000 non-null   object \n",
            " 12  brand             2000 non-null   object \n",
            "dtypes: bool(1), float64(3), int64(5), object(4)\n",
            "memory usage: 189.6+ KB\n"
          ]
        }
      ]
    },
    {
      "cell_type": "markdown",
      "metadata": {
        "id": "9ddbde78-b65f-4173-855c-9a19866c0b27"
      },
      "source": [
        "- `battery_power` should be `int64`, but is `object`. That means there is some letter between the data.\n",
        "- `principal_camera` should be `int64`, but is `float64`. This means that there might be some decimal entry in the data.\n",
        "\n",
        "Still, we can reflect on what is the best representation of the variables `ram`  and `wifi`/`4G`.\n",
        "\n",
        "In case of `wifi`/`4G`, the first is represented as values `1` and `0`, while `4G` is represented as `True` and `False`.  Both representations are acceptable, but the fact that they are the same type (binary), but represented in different ways can be a cause for confusion. So, a good practice is to choose a single way to represent them.\n",
        "\n",
        "In the case of the `ram` column, we know that its interpretation must be **ordinal**. However, due to the unit of measure (`GB`), *pandas* interprets the column as textual data. Also, even if we remove the unit of measure, the data is still represented in decimal notation. So what to do?\n",
        "\n",
        "- Since the main point is to leave the data formatted in a consistent way, as long as the analyst understands that it is an ordinal data and its formatting is consistent, any representation is valid.\n"
      ],
      "id": "9ddbde78-b65f-4173-855c-9a19866c0b27"
    },
    {
      "cell_type": "code",
      "metadata": {
        "colab": {
          "base_uri": "https://localhost:8080/"
        },
        "id": "355d3b1b-7aed-4c88-afee-b2562a1e4b6e",
        "outputId": "3930a10d-8c8f-4059-b120-1c16f448bfd2"
      },
      "source": [
        "# Dealing with battery_power\n",
        "\n",
        "df[\"battery_power\"]"
      ],
      "id": "355d3b1b-7aed-4c88-afee-b2562a1e4b6e",
      "execution_count": null,
      "outputs": [
        {
          "data": {
            "text/plain": [
              "0        800\n",
              "1       1000\n",
              "2        500\n",
              "3        600\n",
              "4       1800\n",
              "        ... \n",
              "1995     700\n",
              "1996    1900\n",
              "1997    1900\n",
              "1998    1500\n",
              "1999     500\n",
              "Name: battery_power, Length: 2000, dtype: object"
            ]
          },
          "execution_count": 5,
          "metadata": {},
          "output_type": "execute_result"
        }
      ]
    },
    {
      "cell_type": "code",
      "metadata": {
        "id": "66d8378f-0913-4c56-9eab-693bf1d4d38d"
      },
      "source": [
        "def to_int(value):\n",
        "    try:\n",
        "        return int(value)\n",
        "    except ValueError:\n",
        "        print(value)\n",
        "        # power_without_unit = value.replace(\"mAh\", \"\")\n",
        "        # print(power_without_unit)\n",
        "        # return int(power_without_unit)"
      ],
      "id": "66d8378f-0913-4c56-9eab-693bf1d4d38d",
      "execution_count": null,
      "outputs": []
    },
    {
      "cell_type": "code",
      "metadata": {
        "colab": {
          "base_uri": "https://localhost:8080/"
        },
        "id": "f23c8772-dd52-4015-88b2-e46b91519b89",
        "scrolled": true,
        "tags": [],
        "outputId": "a28edbda-0237-4c83-cc25-958804c09cea"
      },
      "source": [
        "df[\"battery_power\"].map(to_int)"
      ],
      "id": "f23c8772-dd52-4015-88b2-e46b91519b89",
      "execution_count": null,
      "outputs": [
        {
          "name": "stdout",
          "output_type": "stream",
          "text": [
            "600mAh\n",
            "1500mAh\n",
            "1100mAh\n",
            "1400mAh\n",
            "900mAh\n",
            "1100mAh\n",
            "700mAh\n",
            "1200mAh\n",
            "1700mAh\n",
            "1300mAh\n"
          ]
        },
        {
          "data": {
            "text/plain": [
              "0        800.0\n",
              "1       1000.0\n",
              "2        500.0\n",
              "3        600.0\n",
              "4       1800.0\n",
              "         ...  \n",
              "1995     700.0\n",
              "1996    1900.0\n",
              "1997    1900.0\n",
              "1998    1500.0\n",
              "1999     500.0\n",
              "Name: battery_power, Length: 2000, dtype: float64"
            ]
          },
          "execution_count": 7,
          "metadata": {},
          "output_type": "execute_result"
        }
      ]
    },
    {
      "cell_type": "code",
      "metadata": {
        "colab": {
          "base_uri": "https://localhost:8080/"
        },
        "id": "9c74bb92-8190-47eb-bdc6-17f2598d472f",
        "scrolled": true,
        "tags": [],
        "outputId": "2e536310-fb94-4ced-8986-21e698d4b824"
      },
      "source": [
        "df[\"battery_power\"] = df[\"battery_power\"].map(to_int)\n",
        "df[\"battery_power\"]"
      ],
      "id": "9c74bb92-8190-47eb-bdc6-17f2598d472f",
      "execution_count": null,
      "outputs": [
        {
          "name": "stdout",
          "output_type": "stream",
          "text": [
            "600mAh\n",
            "1500mAh\n",
            "1100mAh\n",
            "1400mAh\n",
            "900mAh\n",
            "1100mAh\n",
            "700mAh\n",
            "1200mAh\n",
            "1700mAh\n",
            "1300mAh\n"
          ]
        },
        {
          "data": {
            "text/plain": [
              "0        800.0\n",
              "1       1000.0\n",
              "2        500.0\n",
              "3        600.0\n",
              "4       1800.0\n",
              "         ...  \n",
              "1995     700.0\n",
              "1996    1900.0\n",
              "1997    1900.0\n",
              "1998    1500.0\n",
              "1999     500.0\n",
              "Name: battery_power, Length: 2000, dtype: float64"
            ]
          },
          "execution_count": 8,
          "metadata": {},
          "output_type": "execute_result"
        }
      ]
    },
    {
      "cell_type": "code",
      "metadata": {
        "colab": {
          "base_uri": "https://localhost:8080/"
        },
        "id": "3e8916f6-9298-4ad9-83f1-d43e8d41cd2e",
        "outputId": "03d3beef-a3c1-4582-b053-3088a503c62c"
      },
      "source": [
        "# Dealing with principal_camera\n",
        "\n",
        "df[\"principal_camera\"].map(to_int)"
      ],
      "id": "3e8916f6-9298-4ad9-83f1-d43e8d41cd2e",
      "execution_count": null,
      "outputs": [
        {
          "name": "stdout",
          "output_type": "stream",
          "text": [
            "nan\n",
            "nan\n",
            "nan\n",
            "nan\n",
            "nan\n",
            "nan\n",
            "nan\n",
            "nan\n",
            "nan\n",
            "nan\n",
            "nan\n"
          ]
        },
        {
          "data": {
            "text/plain": [
              "0        1.0\n",
              "1        4.0\n",
              "2        2.0\n",
              "3        4.0\n",
              "4       13.0\n",
              "        ... \n",
              "1995     2.0\n",
              "1996     2.0\n",
              "1997     1.0\n",
              "1998     4.0\n",
              "1999     5.0\n",
              "Name: principal_camera, Length: 2000, dtype: float64"
            ]
          },
          "execution_count": 9,
          "metadata": {},
          "output_type": "execute_result"
        }
      ]
    },
    {
      "cell_type": "code",
      "metadata": {
        "id": "vFgJijCSdotX"
      },
      "source": [
        "df[\"principal_camera\"] = df[\"principal_camera\"].fillna(-1)"
      ],
      "id": "vFgJijCSdotX",
      "execution_count": null,
      "outputs": []
    },
    {
      "cell_type": "code",
      "metadata": {
        "id": "X4Ur1CuxdxEv"
      },
      "source": [
        "df[\"principal_camera\"] = df[\"principal_camera\"].astype(int)"
      ],
      "id": "X4Ur1CuxdxEv",
      "execution_count": null,
      "outputs": []
    },
    {
      "cell_type": "code",
      "metadata": {
        "colab": {
          "base_uri": "https://localhost:8080/"
        },
        "id": "f2d16a28-d658-4d54-9465-44c9eac7a1f3",
        "outputId": "d796b940-fbc2-4ba8-a278-d45e0895e62a"
      },
      "source": [
        "df[\"wifi\"]"
      ],
      "id": "f2d16a28-d658-4d54-9465-44c9eac7a1f3",
      "execution_count": null,
      "outputs": [
        {
          "data": {
            "text/plain": [
              "0       1\n",
              "1       0\n",
              "2       0\n",
              "3       0\n",
              "4       0\n",
              "       ..\n",
              "1995    0\n",
              "1996    1\n",
              "1997    0\n",
              "1998    1\n",
              "1999    1\n",
              "Name: wifi, Length: 2000, dtype: int64"
            ]
          },
          "execution_count": 12,
          "metadata": {},
          "output_type": "execute_result"
        }
      ]
    },
    {
      "cell_type": "code",
      "metadata": {
        "colab": {
          "base_uri": "https://localhost:8080/"
        },
        "id": "a8796360-cce1-4686-a1cf-f68e7f308d41",
        "outputId": "13eda05b-a235-4c17-e36d-27ff7485c941"
      },
      "source": [
        "df[\"wifi\"] = df[\"wifi\"].astype(bool)\n",
        "df[\"wifi\"]"
      ],
      "id": "a8796360-cce1-4686-a1cf-f68e7f308d41",
      "execution_count": null,
      "outputs": [
        {
          "data": {
            "text/plain": [
              "0        True\n",
              "1       False\n",
              "2       False\n",
              "3       False\n",
              "4       False\n",
              "        ...  \n",
              "1995    False\n",
              "1996     True\n",
              "1997    False\n",
              "1998     True\n",
              "1999     True\n",
              "Name: wifi, Length: 2000, dtype: bool"
            ]
          },
          "execution_count": 13,
          "metadata": {},
          "output_type": "execute_result"
        }
      ]
    },
    {
      "cell_type": "code",
      "metadata": {
        "id": "172f0987-94eb-4d2c-8db3-c606b049a3fb"
      },
      "source": [
        "def remove_unit(value, unit):\n",
        "    return float(value.replace(unit, \"\"))"
      ],
      "id": "172f0987-94eb-4d2c-8db3-c606b049a3fb",
      "execution_count": null,
      "outputs": []
    },
    {
      "cell_type": "code",
      "metadata": {
        "colab": {
          "base_uri": "https://localhost:8080/"
        },
        "id": "09d16eff-d4e4-45f6-8d56-3fb24440caa5",
        "outputId": "1fc7d712-0e8f-46ae-c4a6-5f790659be8e"
      },
      "source": [
        "df[\"ram\"].apply(remove_unit, unit=\"GB\")"
      ],
      "id": "09d16eff-d4e4-45f6-8d56-3fb24440caa5",
      "execution_count": null,
      "outputs": [
        {
          "data": {
            "text/plain": [
              "0       2.000\n",
              "1       2.000\n",
              "2       2.000\n",
              "3       2.000\n",
              "4       1.000\n",
              "        ...  \n",
              "1995    0.512\n",
              "1996    1.000\n",
              "1997    2.000\n",
              "1998    0.512\n",
              "1999    2.000\n",
              "Name: ram, Length: 2000, dtype: float64"
            ]
          },
          "execution_count": 15,
          "metadata": {},
          "output_type": "execute_result"
        }
      ]
    },
    {
      "cell_type": "code",
      "metadata": {
        "colab": {
          "base_uri": "https://localhost:8080/"
        },
        "id": "c3cda07e-78bf-4785-a2d5-2d001df5d9e2",
        "outputId": "f3c75d50-fc9e-4dfa-90b3-140eea080659"
      },
      "source": [
        "df[\"ram\"] = df[\"ram\"].apply(remove_unit, unit=\"GB\")\n",
        "df[\"ram\"]"
      ],
      "id": "c3cda07e-78bf-4785-a2d5-2d001df5d9e2",
      "execution_count": null,
      "outputs": [
        {
          "data": {
            "text/plain": [
              "0       2.000\n",
              "1       2.000\n",
              "2       2.000\n",
              "3       2.000\n",
              "4       1.000\n",
              "        ...  \n",
              "1995    0.512\n",
              "1996    1.000\n",
              "1997    2.000\n",
              "1998    0.512\n",
              "1999    2.000\n",
              "Name: ram, Length: 2000, dtype: float64"
            ]
          },
          "execution_count": 16,
          "metadata": {},
          "output_type": "execute_result"
        }
      ]
    },
    {
      "cell_type": "code",
      "metadata": {
        "colab": {
          "base_uri": "https://localhost:8080/"
        },
        "id": "ba6827ad-0a94-488a-a5a1-f4f42421494a",
        "outputId": "8d881df2-ac21-4771-b9c0-92d5322215c3"
      },
      "source": [
        "df.info()"
      ],
      "id": "ba6827ad-0a94-488a-a5a1-f4f42421494a",
      "execution_count": null,
      "outputs": [
        {
          "name": "stdout",
          "output_type": "stream",
          "text": [
            "<class 'pandas.core.frame.DataFrame'>\n",
            "RangeIndex: 2000 entries, 0 to 1999\n",
            "Data columns (total 13 columns):\n",
            " #   Column            Non-Null Count  Dtype  \n",
            "---  ------            --------------  -----  \n",
            " 0   battery_power     1990 non-null   float64\n",
            " 1   battery_duration  2000 non-null   int64  \n",
            " 2   clock_speed       2000 non-null   float64\n",
            " 3   n_cores           2000 non-null   int64  \n",
            " 4   storage           2000 non-null   int64  \n",
            " 5   ram               2000 non-null   float64\n",
            " 6   principal_camera  2000 non-null   int64  \n",
            " 7   wifi              2000 non-null   bool   \n",
            " 8   4G                2000 non-null   bool   \n",
            " 9   weight            2000 non-null   int64  \n",
            " 10  price             2000 non-null   float64\n",
            " 11  operating_system  2000 non-null   object \n",
            " 12  brand             2000 non-null   object \n",
            "dtypes: bool(2), float64(4), int64(5), object(2)\n",
            "memory usage: 175.9+ KB\n"
          ]
        }
      ]
    },
    {
      "cell_type": "markdown",
      "metadata": {
        "id": "8546824d-c392-42da-97f5-4ccd8ad57595"
      },
      "source": [
        "Another common inconsistency behavior is values out of possible ranges. For example, negative values in `battery_power` or `clock_speed` (impossible case).\n",
        "In situations like this we can choose:\n",
        "\n",
        "- Remove inconsistent data\n",
        "- Mark them as inconsistent with a fixed value\n",
        "- Replace them with a null value and later use some data imputation technique.\n",
        "\n",
        "In general, data removal takes place in the data cleaning step, as does the imputation process. So, it is a reasonable practice to simply mark the data as \"inconsistent\" for analysis purposes."
      ],
      "id": "8546824d-c392-42da-97f5-4ccd8ad57595"
    },
    {
      "cell_type": "code",
      "metadata": {
        "colab": {
          "base_uri": "https://localhost:8080/",
          "height": 295
        },
        "id": "4b988385-6e7c-4f44-9806-b0fba6359013",
        "outputId": "c329cccb-9c20-489b-fad5-7676a5556ab3"
      },
      "source": [
        "# The columns battery_duration, weight, price\n",
        "# have negative values that should not occur\n",
        "\n",
        "df.describe()"
      ],
      "id": "4b988385-6e7c-4f44-9806-b0fba6359013",
      "execution_count": null,
      "outputs": [
        {
          "data": {
            "text/html": [
              "<div>\n",
              "<style scoped>\n",
              "    .dataframe tbody tr th:only-of-type {\n",
              "        vertical-align: middle;\n",
              "    }\n",
              "\n",
              "    .dataframe tbody tr th {\n",
              "        vertical-align: top;\n",
              "    }\n",
              "\n",
              "    .dataframe thead th {\n",
              "        text-align: right;\n",
              "    }\n",
              "</style>\n",
              "<table border=\"1\" class=\"dataframe\">\n",
              "  <thead>\n",
              "    <tr style=\"text-align: right;\">\n",
              "      <th></th>\n",
              "      <th>battery_power</th>\n",
              "      <th>battery_duration</th>\n",
              "      <th>clock_speed</th>\n",
              "      <th>n_cores</th>\n",
              "      <th>storage</th>\n",
              "      <th>ram</th>\n",
              "      <th>principal_camera</th>\n",
              "      <th>weight</th>\n",
              "      <th>price</th>\n",
              "    </tr>\n",
              "  </thead>\n",
              "  <tbody>\n",
              "    <tr>\n",
              "      <th>count</th>\n",
              "      <td>1990.000000</td>\n",
              "      <td>2000.000000</td>\n",
              "      <td>2000.000000</td>\n",
              "      <td>2000.000000</td>\n",
              "      <td>2000.000000</td>\n",
              "      <td>2000.00000</td>\n",
              "      <td>2000.000000</td>\n",
              "      <td>2000.000000</td>\n",
              "      <td>2000.000000</td>\n",
              "    </tr>\n",
              "    <tr>\n",
              "      <th>mean</th>\n",
              "      <td>1189.497487</td>\n",
              "      <td>37.945500</td>\n",
              "      <td>1.522250</td>\n",
              "      <td>4.174000</td>\n",
              "      <td>23.329500</td>\n",
              "      <td>1.40976</td>\n",
              "      <td>5.768500</td>\n",
              "      <td>475.814000</td>\n",
              "      <td>1196.181867</td>\n",
              "    </tr>\n",
              "    <tr>\n",
              "      <th>std</th>\n",
              "      <td>437.869572</td>\n",
              "      <td>51.049246</td>\n",
              "      <td>0.816004</td>\n",
              "      <td>2.483507</td>\n",
              "      <td>24.784957</td>\n",
              "      <td>0.65578</td>\n",
              "      <td>4.082676</td>\n",
              "      <td>248.271178</td>\n",
              "      <td>492.474951</td>\n",
              "    </tr>\n",
              "    <tr>\n",
              "      <th>min</th>\n",
              "      <td>500.000000</td>\n",
              "      <td>-9.000000</td>\n",
              "      <td>0.500000</td>\n",
              "      <td>1.000000</td>\n",
              "      <td>2.000000</td>\n",
              "      <td>0.25600</td>\n",
              "      <td>-1.000000</td>\n",
              "      <td>-511.000000</td>\n",
              "      <td>-470.743530</td>\n",
              "    </tr>\n",
              "    <tr>\n",
              "      <th>25%</th>\n",
              "      <td>800.000000</td>\n",
              "      <td>10.000000</td>\n",
              "      <td>0.700000</td>\n",
              "      <td>2.000000</td>\n",
              "      <td>16.000000</td>\n",
              "      <td>1.00000</td>\n",
              "      <td>2.000000</td>\n",
              "      <td>314.000000</td>\n",
              "      <td>855.411965</td>\n",
              "    </tr>\n",
              "    <tr>\n",
              "      <th>50%</th>\n",
              "      <td>1200.000000</td>\n",
              "      <td>20.000000</td>\n",
              "      <td>1.500000</td>\n",
              "      <td>4.000000</td>\n",
              "      <td>32.000000</td>\n",
              "      <td>2.00000</td>\n",
              "      <td>5.000000</td>\n",
              "      <td>475.000000</td>\n",
              "      <td>1186.738119</td>\n",
              "    </tr>\n",
              "    <tr>\n",
              "      <th>75%</th>\n",
              "      <td>1600.000000</td>\n",
              "      <td>46.000000</td>\n",
              "      <td>2.200000</td>\n",
              "      <td>8.000000</td>\n",
              "      <td>32.000000</td>\n",
              "      <td>2.00000</td>\n",
              "      <td>8.000000</td>\n",
              "      <td>643.000000</td>\n",
              "      <td>1537.986535</td>\n",
              "    </tr>\n",
              "    <tr>\n",
              "      <th>max</th>\n",
              "      <td>1900.000000</td>\n",
              "      <td>380.000000</td>\n",
              "      <td>3.000000</td>\n",
              "      <td>8.000000</td>\n",
              "      <td>512.000000</td>\n",
              "      <td>2.00000</td>\n",
              "      <td>19.000000</td>\n",
              "      <td>1187.000000</td>\n",
              "      <td>2777.170980</td>\n",
              "    </tr>\n",
              "  </tbody>\n",
              "</table>\n",
              "</div>"
            ],
            "text/plain": [
              "       battery_power  battery_duration  clock_speed      n_cores      storage  \\\n",
              "count    1990.000000       2000.000000  2000.000000  2000.000000  2000.000000   \n",
              "mean     1189.497487         37.945500     1.522250     4.174000    23.329500   \n",
              "std       437.869572         51.049246     0.816004     2.483507    24.784957   \n",
              "min       500.000000         -9.000000     0.500000     1.000000     2.000000   \n",
              "25%       800.000000         10.000000     0.700000     2.000000    16.000000   \n",
              "50%      1200.000000         20.000000     1.500000     4.000000    32.000000   \n",
              "75%      1600.000000         46.000000     2.200000     8.000000    32.000000   \n",
              "max      1900.000000        380.000000     3.000000     8.000000   512.000000   \n",
              "\n",
              "              ram  principal_camera       weight        price  \n",
              "count  2000.00000       2000.000000  2000.000000  2000.000000  \n",
              "mean      1.40976          5.768500   475.814000  1196.181867  \n",
              "std       0.65578          4.082676   248.271178   492.474951  \n",
              "min       0.25600         -1.000000  -511.000000  -470.743530  \n",
              "25%       1.00000          2.000000   314.000000   855.411965  \n",
              "50%       2.00000          5.000000   475.000000  1186.738119  \n",
              "75%       2.00000          8.000000   643.000000  1537.986535  \n",
              "max       2.00000         19.000000  1187.000000  2777.170980  "
            ]
          },
          "execution_count": 18,
          "metadata": {},
          "output_type": "execute_result"
        }
      ]
    },
    {
      "cell_type": "code",
      "metadata": {
        "colab": {
          "base_uri": "https://localhost:8080/",
          "height": 295
        },
        "id": "6439efa2-909b-498e-a9c5-5b5c95a2f666",
        "outputId": "8ebe26d9-c2bd-4701-be4e-624b4e24e808"
      },
      "source": [
        "df[df[\"battery_duration\"] < 0]"
      ],
      "id": "6439efa2-909b-498e-a9c5-5b5c95a2f666",
      "execution_count": null,
      "outputs": [
        {
          "data": {
            "text/html": [
              "<div>\n",
              "<style scoped>\n",
              "    .dataframe tbody tr th:only-of-type {\n",
              "        vertical-align: middle;\n",
              "    }\n",
              "\n",
              "    .dataframe tbody tr th {\n",
              "        vertical-align: top;\n",
              "    }\n",
              "\n",
              "    .dataframe thead th {\n",
              "        text-align: right;\n",
              "    }\n",
              "</style>\n",
              "<table border=\"1\" class=\"dataframe\">\n",
              "  <thead>\n",
              "    <tr style=\"text-align: right;\">\n",
              "      <th></th>\n",
              "      <th>battery_power</th>\n",
              "      <th>battery_duration</th>\n",
              "      <th>clock_speed</th>\n",
              "      <th>n_cores</th>\n",
              "      <th>storage</th>\n",
              "      <th>ram</th>\n",
              "      <th>principal_camera</th>\n",
              "      <th>wifi</th>\n",
              "      <th>4G</th>\n",
              "      <th>weight</th>\n",
              "      <th>price</th>\n",
              "      <th>operating_system</th>\n",
              "      <th>brand</th>\n",
              "    </tr>\n",
              "  </thead>\n",
              "  <tbody>\n",
              "    <tr>\n",
              "      <th>16</th>\n",
              "      <td>800.0</td>\n",
              "      <td>-6</td>\n",
              "      <td>0.5</td>\n",
              "      <td>8</td>\n",
              "      <td>8</td>\n",
              "      <td>2.000</td>\n",
              "      <td>1</td>\n",
              "      <td>True</td>\n",
              "      <td>True</td>\n",
              "      <td>375</td>\n",
              "      <td>1094.959735</td>\n",
              "      <td>Android</td>\n",
              "      <td>Samsung</td>\n",
              "    </tr>\n",
              "    <tr>\n",
              "      <th>348</th>\n",
              "      <td>800.0</td>\n",
              "      <td>-7</td>\n",
              "      <td>1.0</td>\n",
              "      <td>1</td>\n",
              "      <td>32</td>\n",
              "      <td>2.000</td>\n",
              "      <td>7</td>\n",
              "      <td>False</td>\n",
              "      <td>True</td>\n",
              "      <td>937</td>\n",
              "      <td>-10.783257</td>\n",
              "      <td>iOS</td>\n",
              "      <td>Apple</td>\n",
              "    </tr>\n",
              "    <tr>\n",
              "      <th>507</th>\n",
              "      <td>500.0</td>\n",
              "      <td>-8</td>\n",
              "      <td>0.5</td>\n",
              "      <td>2</td>\n",
              "      <td>8</td>\n",
              "      <td>2.000</td>\n",
              "      <td>7</td>\n",
              "      <td>True</td>\n",
              "      <td>False</td>\n",
              "      <td>828</td>\n",
              "      <td>314.496275</td>\n",
              "      <td>iOS</td>\n",
              "      <td>Apple</td>\n",
              "    </tr>\n",
              "    <tr>\n",
              "      <th>609</th>\n",
              "      <td>1200.0</td>\n",
              "      <td>-9</td>\n",
              "      <td>2.6</td>\n",
              "      <td>4</td>\n",
              "      <td>32</td>\n",
              "      <td>2.000</td>\n",
              "      <td>1</td>\n",
              "      <td>True</td>\n",
              "      <td>True</td>\n",
              "      <td>466</td>\n",
              "      <td>1899.948722</td>\n",
              "      <td>Android</td>\n",
              "      <td>Xiaomi</td>\n",
              "    </tr>\n",
              "    <tr>\n",
              "      <th>1302</th>\n",
              "      <td>1900.0</td>\n",
              "      <td>-9</td>\n",
              "      <td>2.6</td>\n",
              "      <td>4</td>\n",
              "      <td>4</td>\n",
              "      <td>0.512</td>\n",
              "      <td>5</td>\n",
              "      <td>True</td>\n",
              "      <td>False</td>\n",
              "      <td>265</td>\n",
              "      <td>2068.425971</td>\n",
              "      <td>Android</td>\n",
              "      <td>Xiaomi</td>\n",
              "    </tr>\n",
              "    <tr>\n",
              "      <th>1308</th>\n",
              "      <td>1400.0</td>\n",
              "      <td>-6</td>\n",
              "      <td>1.3</td>\n",
              "      <td>2</td>\n",
              "      <td>4</td>\n",
              "      <td>2.000</td>\n",
              "      <td>2</td>\n",
              "      <td>True</td>\n",
              "      <td>True</td>\n",
              "      <td>704</td>\n",
              "      <td>930.725231</td>\n",
              "      <td>iOS</td>\n",
              "      <td>Apple</td>\n",
              "    </tr>\n",
              "    <tr>\n",
              "      <th>1661</th>\n",
              "      <td>1900.0</td>\n",
              "      <td>-8</td>\n",
              "      <td>0.5</td>\n",
              "      <td>4</td>\n",
              "      <td>8</td>\n",
              "      <td>0.512</td>\n",
              "      <td>10</td>\n",
              "      <td>False</td>\n",
              "      <td>False</td>\n",
              "      <td>606</td>\n",
              "      <td>1229.556794</td>\n",
              "      <td>Android</td>\n",
              "      <td>Asus</td>\n",
              "    </tr>\n",
              "    <tr>\n",
              "      <th>1981</th>\n",
              "      <td>1400.0</td>\n",
              "      <td>-8</td>\n",
              "      <td>2.6</td>\n",
              "      <td>2</td>\n",
              "      <td>4</td>\n",
              "      <td>1.000</td>\n",
              "      <td>8</td>\n",
              "      <td>True</td>\n",
              "      <td>False</td>\n",
              "      <td>654</td>\n",
              "      <td>583.511500</td>\n",
              "      <td>Android</td>\n",
              "      <td>Asus</td>\n",
              "    </tr>\n",
              "  </tbody>\n",
              "</table>\n",
              "</div>"
            ],
            "text/plain": [
              "      battery_power  battery_duration  clock_speed  n_cores  storage    ram  \\\n",
              "16            800.0                -6          0.5        8        8  2.000   \n",
              "348           800.0                -7          1.0        1       32  2.000   \n",
              "507           500.0                -8          0.5        2        8  2.000   \n",
              "609          1200.0                -9          2.6        4       32  2.000   \n",
              "1302         1900.0                -9          2.6        4        4  0.512   \n",
              "1308         1400.0                -6          1.3        2        4  2.000   \n",
              "1661         1900.0                -8          0.5        4        8  0.512   \n",
              "1981         1400.0                -8          2.6        2        4  1.000   \n",
              "\n",
              "      principal_camera   wifi     4G  weight        price operating_system  \\\n",
              "16                   1   True   True     375  1094.959735          Android   \n",
              "348                  7  False   True     937   -10.783257              iOS   \n",
              "507                  7   True  False     828   314.496275              iOS   \n",
              "609                  1   True   True     466  1899.948722          Android   \n",
              "1302                 5   True  False     265  2068.425971          Android   \n",
              "1308                 2   True   True     704   930.725231              iOS   \n",
              "1661                10  False  False     606  1229.556794          Android   \n",
              "1981                 8   True  False     654   583.511500          Android   \n",
              "\n",
              "        brand  \n",
              "16    Samsung  \n",
              "348     Apple  \n",
              "507     Apple  \n",
              "609    Xiaomi  \n",
              "1302   Xiaomi  \n",
              "1308    Apple  \n",
              "1661     Asus  \n",
              "1981     Asus  "
            ]
          },
          "execution_count": 19,
          "metadata": {},
          "output_type": "execute_result"
        }
      ]
    },
    {
      "cell_type": "code",
      "metadata": {
        "id": "089a45d7-a1bf-4ef2-b4e1-f39521453f8b"
      },
      "source": [
        "df.loc[df[\"battery_duration\"] < 0, \"battery_duration\"] = -1"
      ],
      "id": "089a45d7-a1bf-4ef2-b4e1-f39521453f8b",
      "execution_count": null,
      "outputs": []
    },
    {
      "cell_type": "code",
      "metadata": {
        "colab": {
          "base_uri": "https://localhost:8080/",
          "height": 295
        },
        "id": "93073c85-d439-40d1-a374-8401fcd27666",
        "outputId": "1d316310-845e-4fa9-eefe-d469ab39e513"
      },
      "source": [
        "df[df[\"battery_duration\"] < 0]"
      ],
      "id": "93073c85-d439-40d1-a374-8401fcd27666",
      "execution_count": null,
      "outputs": [
        {
          "data": {
            "text/html": [
              "<div>\n",
              "<style scoped>\n",
              "    .dataframe tbody tr th:only-of-type {\n",
              "        vertical-align: middle;\n",
              "    }\n",
              "\n",
              "    .dataframe tbody tr th {\n",
              "        vertical-align: top;\n",
              "    }\n",
              "\n",
              "    .dataframe thead th {\n",
              "        text-align: right;\n",
              "    }\n",
              "</style>\n",
              "<table border=\"1\" class=\"dataframe\">\n",
              "  <thead>\n",
              "    <tr style=\"text-align: right;\">\n",
              "      <th></th>\n",
              "      <th>battery_power</th>\n",
              "      <th>battery_duration</th>\n",
              "      <th>clock_speed</th>\n",
              "      <th>n_cores</th>\n",
              "      <th>storage</th>\n",
              "      <th>ram</th>\n",
              "      <th>principal_camera</th>\n",
              "      <th>wifi</th>\n",
              "      <th>4G</th>\n",
              "      <th>weight</th>\n",
              "      <th>price</th>\n",
              "      <th>operating_system</th>\n",
              "      <th>brand</th>\n",
              "    </tr>\n",
              "  </thead>\n",
              "  <tbody>\n",
              "    <tr>\n",
              "      <th>16</th>\n",
              "      <td>800.0</td>\n",
              "      <td>-1</td>\n",
              "      <td>0.5</td>\n",
              "      <td>8</td>\n",
              "      <td>8</td>\n",
              "      <td>2.000</td>\n",
              "      <td>1</td>\n",
              "      <td>True</td>\n",
              "      <td>True</td>\n",
              "      <td>375</td>\n",
              "      <td>1094.959735</td>\n",
              "      <td>Android</td>\n",
              "      <td>Samsung</td>\n",
              "    </tr>\n",
              "    <tr>\n",
              "      <th>348</th>\n",
              "      <td>800.0</td>\n",
              "      <td>-1</td>\n",
              "      <td>1.0</td>\n",
              "      <td>1</td>\n",
              "      <td>32</td>\n",
              "      <td>2.000</td>\n",
              "      <td>7</td>\n",
              "      <td>False</td>\n",
              "      <td>True</td>\n",
              "      <td>937</td>\n",
              "      <td>-10.783257</td>\n",
              "      <td>iOS</td>\n",
              "      <td>Apple</td>\n",
              "    </tr>\n",
              "    <tr>\n",
              "      <th>507</th>\n",
              "      <td>500.0</td>\n",
              "      <td>-1</td>\n",
              "      <td>0.5</td>\n",
              "      <td>2</td>\n",
              "      <td>8</td>\n",
              "      <td>2.000</td>\n",
              "      <td>7</td>\n",
              "      <td>True</td>\n",
              "      <td>False</td>\n",
              "      <td>828</td>\n",
              "      <td>314.496275</td>\n",
              "      <td>iOS</td>\n",
              "      <td>Apple</td>\n",
              "    </tr>\n",
              "    <tr>\n",
              "      <th>609</th>\n",
              "      <td>1200.0</td>\n",
              "      <td>-1</td>\n",
              "      <td>2.6</td>\n",
              "      <td>4</td>\n",
              "      <td>32</td>\n",
              "      <td>2.000</td>\n",
              "      <td>1</td>\n",
              "      <td>True</td>\n",
              "      <td>True</td>\n",
              "      <td>466</td>\n",
              "      <td>1899.948722</td>\n",
              "      <td>Android</td>\n",
              "      <td>Xiaomi</td>\n",
              "    </tr>\n",
              "    <tr>\n",
              "      <th>1302</th>\n",
              "      <td>1900.0</td>\n",
              "      <td>-1</td>\n",
              "      <td>2.6</td>\n",
              "      <td>4</td>\n",
              "      <td>4</td>\n",
              "      <td>0.512</td>\n",
              "      <td>5</td>\n",
              "      <td>True</td>\n",
              "      <td>False</td>\n",
              "      <td>265</td>\n",
              "      <td>2068.425971</td>\n",
              "      <td>Android</td>\n",
              "      <td>Xiaomi</td>\n",
              "    </tr>\n",
              "    <tr>\n",
              "      <th>1308</th>\n",
              "      <td>1400.0</td>\n",
              "      <td>-1</td>\n",
              "      <td>1.3</td>\n",
              "      <td>2</td>\n",
              "      <td>4</td>\n",
              "      <td>2.000</td>\n",
              "      <td>2</td>\n",
              "      <td>True</td>\n",
              "      <td>True</td>\n",
              "      <td>704</td>\n",
              "      <td>930.725231</td>\n",
              "      <td>iOS</td>\n",
              "      <td>Apple</td>\n",
              "    </tr>\n",
              "    <tr>\n",
              "      <th>1661</th>\n",
              "      <td>1900.0</td>\n",
              "      <td>-1</td>\n",
              "      <td>0.5</td>\n",
              "      <td>4</td>\n",
              "      <td>8</td>\n",
              "      <td>0.512</td>\n",
              "      <td>10</td>\n",
              "      <td>False</td>\n",
              "      <td>False</td>\n",
              "      <td>606</td>\n",
              "      <td>1229.556794</td>\n",
              "      <td>Android</td>\n",
              "      <td>Asus</td>\n",
              "    </tr>\n",
              "    <tr>\n",
              "      <th>1981</th>\n",
              "      <td>1400.0</td>\n",
              "      <td>-1</td>\n",
              "      <td>2.6</td>\n",
              "      <td>2</td>\n",
              "      <td>4</td>\n",
              "      <td>1.000</td>\n",
              "      <td>8</td>\n",
              "      <td>True</td>\n",
              "      <td>False</td>\n",
              "      <td>654</td>\n",
              "      <td>583.511500</td>\n",
              "      <td>Android</td>\n",
              "      <td>Asus</td>\n",
              "    </tr>\n",
              "  </tbody>\n",
              "</table>\n",
              "</div>"
            ],
            "text/plain": [
              "      battery_power  battery_duration  clock_speed  n_cores  storage    ram  \\\n",
              "16            800.0                -1          0.5        8        8  2.000   \n",
              "348           800.0                -1          1.0        1       32  2.000   \n",
              "507           500.0                -1          0.5        2        8  2.000   \n",
              "609          1200.0                -1          2.6        4       32  2.000   \n",
              "1302         1900.0                -1          2.6        4        4  0.512   \n",
              "1308         1400.0                -1          1.3        2        4  2.000   \n",
              "1661         1900.0                -1          0.5        4        8  0.512   \n",
              "1981         1400.0                -1          2.6        2        4  1.000   \n",
              "\n",
              "      principal_camera   wifi     4G  weight        price operating_system  \\\n",
              "16                   1   True   True     375  1094.959735          Android   \n",
              "348                  7  False   True     937   -10.783257              iOS   \n",
              "507                  7   True  False     828   314.496275              iOS   \n",
              "609                  1   True   True     466  1899.948722          Android   \n",
              "1302                 5   True  False     265  2068.425971          Android   \n",
              "1308                 2   True   True     704   930.725231              iOS   \n",
              "1661                10  False  False     606  1229.556794          Android   \n",
              "1981                 8   True  False     654   583.511500          Android   \n",
              "\n",
              "        brand  \n",
              "16    Samsung  \n",
              "348     Apple  \n",
              "507     Apple  \n",
              "609    Xiaomi  \n",
              "1302   Xiaomi  \n",
              "1308    Apple  \n",
              "1661     Asus  \n",
              "1981     Asus  "
            ]
          },
          "execution_count": 21,
          "metadata": {},
          "output_type": "execute_result"
        }
      ]
    },
    {
      "cell_type": "code",
      "metadata": {
        "id": "bcbdc71d-4538-4c08-af14-6509b0c80284"
      },
      "source": [
        "df.loc[df[\"weight\"] < 0, \"weight\"] = -1\n",
        "df.loc[df[\"principal_camera\"] < 0, \"principal_camera\"] = -1\n",
        "df.loc[df[\"price\"] < 0, \"price\"] = -1"
      ],
      "id": "bcbdc71d-4538-4c08-af14-6509b0c80284",
      "execution_count": null,
      "outputs": []
    },
    {
      "cell_type": "markdown",
      "metadata": {
        "id": "9edc9634-500c-4a34-b845-f38e463b15f8"
      },
      "source": [
        "## Descriptive statistics\n",
        "\n",
        "Descriptive statistics are the most basic way to extract information from data. Basically, these are measures that summarize (in a way) the data we're working on.\n",
        "\n",
        "Dividimos as medidas descritivas em dois tipos: medidas de tendência central e medidas de dispersão.\n",
        "\n",
        "We divide descriptive statistics into two types: measures of central tendency and measures of dispersion.\n",
        "\n",
        "### Central tendency measures\n",
        "\n",
        "Measures of central tendency are those that show what value the data tends towards.\n",
        "\n",
        "- Mean \n",
        "- Median\n",
        "- mode\n",
        "- Weighted average\n",
        "- Quantiles\n",
        "\n",
        "### Dispersion Measures\n",
        "Dispersion measures are those that show how dispersed the data is relative to a central value.\n",
        "\n",
        "- Variance\n",
        "- standard deviation "
      ],
      "id": "9edc9634-500c-4a34-b845-f38e463b15f8"
    },
    {
      "cell_type": "markdown",
      "metadata": {
        "id": "81c8c6da-a7bf-4245-9ff8-0acb31b6dd16"
      },
      "source": [
        "## Describe\n",
        "\n",
        "`pandas` gives us the `describe` method that returns, for each numeric variable:\n",
        "\n",
        "- Counting the number of samples\n",
        "- Mean\n",
        "- Standard deviation\n",
        "- Minimum value\n",
        "- First quartile\n",
        "- Second quartile\n",
        "- Third quartile\n",
        "- Maximum value"
      ],
      "id": "81c8c6da-a7bf-4245-9ff8-0acb31b6dd16"
    },
    {
      "cell_type": "code",
      "metadata": {
        "colab": {
          "base_uri": "https://localhost:8080/",
          "height": 295
        },
        "id": "f59522b4-bea7-4aab-acf9-4131f32a2818",
        "outputId": "abfe7474-2a2d-485c-8a26-0716a85074c5"
      },
      "source": [
        "quantitative_cols = [\"battery_power\", \"battery_duration\", \"clock_speed\", \"principal_camera\", \"weight\", \"price\"]\n",
        "df[quantitative_cols].describe()"
      ],
      "id": "f59522b4-bea7-4aab-acf9-4131f32a2818",
      "execution_count": null,
      "outputs": [
        {
          "data": {
            "text/html": [
              "<div>\n",
              "<style scoped>\n",
              "    .dataframe tbody tr th:only-of-type {\n",
              "        vertical-align: middle;\n",
              "    }\n",
              "\n",
              "    .dataframe tbody tr th {\n",
              "        vertical-align: top;\n",
              "    }\n",
              "\n",
              "    .dataframe thead th {\n",
              "        text-align: right;\n",
              "    }\n",
              "</style>\n",
              "<table border=\"1\" class=\"dataframe\">\n",
              "  <thead>\n",
              "    <tr style=\"text-align: right;\">\n",
              "      <th></th>\n",
              "      <th>battery_power</th>\n",
              "      <th>battery_duration</th>\n",
              "      <th>clock_speed</th>\n",
              "      <th>principal_camera</th>\n",
              "      <th>weight</th>\n",
              "      <th>price</th>\n",
              "    </tr>\n",
              "  </thead>\n",
              "  <tbody>\n",
              "    <tr>\n",
              "      <th>count</th>\n",
              "      <td>1990.000000</td>\n",
              "      <td>2000.000000</td>\n",
              "      <td>2000.000000</td>\n",
              "      <td>2000.000000</td>\n",
              "      <td>2000.000000</td>\n",
              "      <td>2000.000000</td>\n",
              "    </tr>\n",
              "    <tr>\n",
              "      <th>mean</th>\n",
              "      <td>1189.497487</td>\n",
              "      <td>37.972000</td>\n",
              "      <td>1.522250</td>\n",
              "      <td>5.768500</td>\n",
              "      <td>478.329500</td>\n",
              "      <td>1197.066666</td>\n",
              "    </tr>\n",
              "    <tr>\n",
              "      <th>std</th>\n",
              "      <td>437.869572</td>\n",
              "      <td>51.027239</td>\n",
              "      <td>0.816004</td>\n",
              "      <td>4.082676</td>\n",
              "      <td>242.237056</td>\n",
              "      <td>490.033043</td>\n",
              "    </tr>\n",
              "    <tr>\n",
              "      <th>min</th>\n",
              "      <td>500.000000</td>\n",
              "      <td>-1.000000</td>\n",
              "      <td>0.500000</td>\n",
              "      <td>-1.000000</td>\n",
              "      <td>-1.000000</td>\n",
              "      <td>-1.000000</td>\n",
              "    </tr>\n",
              "    <tr>\n",
              "      <th>25%</th>\n",
              "      <td>800.000000</td>\n",
              "      <td>10.000000</td>\n",
              "      <td>0.700000</td>\n",
              "      <td>2.000000</td>\n",
              "      <td>314.000000</td>\n",
              "      <td>855.411965</td>\n",
              "    </tr>\n",
              "    <tr>\n",
              "      <th>50%</th>\n",
              "      <td>1200.000000</td>\n",
              "      <td>20.000000</td>\n",
              "      <td>1.500000</td>\n",
              "      <td>5.000000</td>\n",
              "      <td>475.000000</td>\n",
              "      <td>1186.738119</td>\n",
              "    </tr>\n",
              "    <tr>\n",
              "      <th>75%</th>\n",
              "      <td>1600.000000</td>\n",
              "      <td>46.000000</td>\n",
              "      <td>2.200000</td>\n",
              "      <td>8.000000</td>\n",
              "      <td>643.000000</td>\n",
              "      <td>1537.986535</td>\n",
              "    </tr>\n",
              "    <tr>\n",
              "      <th>max</th>\n",
              "      <td>1900.000000</td>\n",
              "      <td>380.000000</td>\n",
              "      <td>3.000000</td>\n",
              "      <td>19.000000</td>\n",
              "      <td>1187.000000</td>\n",
              "      <td>2777.170980</td>\n",
              "    </tr>\n",
              "  </tbody>\n",
              "</table>\n",
              "</div>"
            ],
            "text/plain": [
              "       battery_power  battery_duration  clock_speed  principal_camera  \\\n",
              "count    1990.000000       2000.000000  2000.000000       2000.000000   \n",
              "mean     1189.497487         37.972000     1.522250          5.768500   \n",
              "std       437.869572         51.027239     0.816004          4.082676   \n",
              "min       500.000000         -1.000000     0.500000         -1.000000   \n",
              "25%       800.000000         10.000000     0.700000          2.000000   \n",
              "50%      1200.000000         20.000000     1.500000          5.000000   \n",
              "75%      1600.000000         46.000000     2.200000          8.000000   \n",
              "max      1900.000000        380.000000     3.000000         19.000000   \n",
              "\n",
              "            weight        price  \n",
              "count  2000.000000  2000.000000  \n",
              "mean    478.329500  1197.066666  \n",
              "std     242.237056   490.033043  \n",
              "min      -1.000000    -1.000000  \n",
              "25%     314.000000   855.411965  \n",
              "50%     475.000000  1186.738119  \n",
              "75%     643.000000  1537.986535  \n",
              "max    1187.000000  2777.170980  "
            ]
          },
          "execution_count": 23,
          "metadata": {},
          "output_type": "execute_result"
        }
      ]
    },
    {
      "cell_type": "markdown",
      "metadata": {
        "id": "de10e770-79ff-492a-9931-4a5133dec7a3"
      },
      "source": [
        "Também podem consultar as medidas através dos seus próprios métodos"
      ],
      "id": "de10e770-79ff-492a-9931-4a5133dec7a3"
    },
    {
      "cell_type": "code",
      "metadata": {
        "colab": {
          "base_uri": "https://localhost:8080/"
        },
        "id": "5a92b2d2-286d-4602-ac25-15c68ec2e241",
        "outputId": "01b4bd4a-a9e3-4d1c-d113-2e91a8ca260f"
      },
      "source": [
        "df.loc[df[\"battery_duration\"] >= 0, \"battery_duration\"].describe()"
      ],
      "id": "5a92b2d2-286d-4602-ac25-15c68ec2e241",
      "execution_count": null,
      "outputs": [
        {
          "data": {
            "text/plain": [
              "count    1992.000000\n",
              "mean       38.128514\n",
              "std        51.069698\n",
              "min         2.000000\n",
              "25%        10.000000\n",
              "50%        21.000000\n",
              "75%        46.000000\n",
              "max       380.000000\n",
              "Name: battery_duration, dtype: float64"
            ]
          },
          "execution_count": 24,
          "metadata": {},
          "output_type": "execute_result"
        }
      ]
    },
    {
      "cell_type": "code",
      "metadata": {
        "colab": {
          "base_uri": "https://localhost:8080/"
        },
        "id": "47597c14-fec7-4ffc-93bf-7749e1cd6786",
        "outputId": "c0327085-f4a0-4213-f5f0-9cb122e798f2"
      },
      "source": [
        "df.loc[df[\"battery_duration\"] >= 0, \"battery_duration\"].mean(), df.loc[df[\"battery_duration\"] >= 0, \"battery_duration\"].std()"
      ],
      "id": "47597c14-fec7-4ffc-93bf-7749e1cd6786",
      "execution_count": null,
      "outputs": [
        {
          "data": {
            "text/plain": [
              "(38.1285140562249, 51.06969809472631)"
            ]
          },
          "execution_count": 25,
          "metadata": {},
          "output_type": "execute_result"
        }
      ]
    },
    {
      "cell_type": "code",
      "metadata": {
        "colab": {
          "base_uri": "https://localhost:8080/"
        },
        "id": "75918312-416e-4993-b24e-6b832826917e",
        "outputId": "7362d796-aa15-45e4-81e1-d5586a0e4097"
      },
      "source": [
        "df.loc[df[\"battery_duration\"] >= 0, \"battery_duration\"].median()"
      ],
      "id": "75918312-416e-4993-b24e-6b832826917e",
      "execution_count": null,
      "outputs": [
        {
          "data": {
            "text/plain": [
              "21.0"
            ]
          },
          "execution_count": 26,
          "metadata": {},
          "output_type": "execute_result"
        }
      ]
    },
    {
      "cell_type": "code",
      "metadata": {
        "colab": {
          "base_uri": "https://localhost:8080/"
        },
        "id": "cf9a4346-a5f4-465a-9e61-0bf84208f2c7",
        "outputId": "1265710e-b0de-401f-ed4b-83da7463970c"
      },
      "source": [
        "df.loc[df[\"battery_duration\"] >= 0, \"battery_duration\"].min(), df.loc[df[\"battery_duration\"] >= 0, \"battery_duration\"].max()"
      ],
      "id": "cf9a4346-a5f4-465a-9e61-0bf84208f2c7",
      "execution_count": null,
      "outputs": [
        {
          "data": {
            "text/plain": [
              "(2, 380)"
            ]
          },
          "execution_count": 27,
          "metadata": {},
          "output_type": "execute_result"
        }
      ]
    },
    {
      "cell_type": "code",
      "metadata": {
        "colab": {
          "base_uri": "https://localhost:8080/"
        },
        "id": "ea076ae0-ddf7-4761-896f-a52c7ebe0932",
        "outputId": "03551579-b721-4a8a-ee0e-c3f7b73ccf43"
      },
      "source": [
        "df.loc[df[\"battery_duration\"] >= 0, \"battery_duration\"].describe()"
      ],
      "id": "ea076ae0-ddf7-4761-896f-a52c7ebe0932",
      "execution_count": null,
      "outputs": [
        {
          "data": {
            "text/plain": [
              "count    1992.000000\n",
              "mean       38.128514\n",
              "std        51.069698\n",
              "min         2.000000\n",
              "25%        10.000000\n",
              "50%        21.000000\n",
              "75%        46.000000\n",
              "max       380.000000\n",
              "Name: battery_duration, dtype: float64"
            ]
          },
          "execution_count": 28,
          "metadata": {},
          "output_type": "execute_result"
        }
      ]
    },
    {
      "cell_type": "markdown",
      "metadata": {
        "id": "9dfbbc19-f1e5-44ec-a6e8-69d6ebb8e5c3"
      },
      "source": [
        "As for the qualitative variables, it is common to consult a table of frequency values together with the mode."
      ],
      "id": "9dfbbc19-f1e5-44ec-a6e8-69d6ebb8e5c3"
    },
    {
      "cell_type": "code",
      "metadata": {
        "colab": {
          "base_uri": "https://localhost:8080/",
          "height": 80
        },
        "id": "f25fbdbd-a07c-4f9b-b796-0dd6b3afd715",
        "outputId": "48728c35-c62f-47e0-d1b6-f7469dbe3d7e"
      },
      "source": [
        "qualitative_cols = [\"n_cores\", \"storage\", \"ram\", \"wifi\", \"4G\", \"operating_system\", \"brand\"]\n",
        "df[qualitative_cols].mode()"
      ],
      "id": "f25fbdbd-a07c-4f9b-b796-0dd6b3afd715",
      "execution_count": null,
      "outputs": [
        {
          "data": {
            "text/html": [
              "<div>\n",
              "<style scoped>\n",
              "    .dataframe tbody tr th:only-of-type {\n",
              "        vertical-align: middle;\n",
              "    }\n",
              "\n",
              "    .dataframe tbody tr th {\n",
              "        vertical-align: top;\n",
              "    }\n",
              "\n",
              "    .dataframe thead th {\n",
              "        text-align: right;\n",
              "    }\n",
              "</style>\n",
              "<table border=\"1\" class=\"dataframe\">\n",
              "  <thead>\n",
              "    <tr style=\"text-align: right;\">\n",
              "      <th></th>\n",
              "      <th>n_cores</th>\n",
              "      <th>storage</th>\n",
              "      <th>ram</th>\n",
              "      <th>wifi</th>\n",
              "      <th>4G</th>\n",
              "      <th>operating_system</th>\n",
              "      <th>brand</th>\n",
              "    </tr>\n",
              "  </thead>\n",
              "  <tbody>\n",
              "    <tr>\n",
              "      <th>0</th>\n",
              "      <td>4</td>\n",
              "      <td>32</td>\n",
              "      <td>2.0</td>\n",
              "      <td>True</td>\n",
              "      <td>True</td>\n",
              "      <td>Android</td>\n",
              "      <td>Apple</td>\n",
              "    </tr>\n",
              "  </tbody>\n",
              "</table>\n",
              "</div>"
            ],
            "text/plain": [
              "   n_cores  storage  ram  wifi    4G operating_system  brand\n",
              "0        4       32  2.0  True  True          Android  Apple"
            ]
          },
          "execution_count": 29,
          "metadata": {},
          "output_type": "execute_result"
        }
      ]
    },
    {
      "cell_type": "code",
      "metadata": {
        "colab": {
          "base_uri": "https://localhost:8080/"
        },
        "id": "19aa2622-b7b4-4fdd-8282-e6d3405d63b0",
        "outputId": "c454da8d-be29-4a1b-e3c5-d700af28c763"
      },
      "source": [
        "df[\"n_cores\"].value_counts()"
      ],
      "id": "19aa2622-b7b4-4fdd-8282-e6d3405d63b0",
      "execution_count": null,
      "outputs": [
        {
          "data": {
            "text/plain": [
              "4    750\n",
              "8    515\n",
              "2    493\n",
              "1    242\n",
              "Name: n_cores, dtype: int64"
            ]
          },
          "execution_count": 30,
          "metadata": {},
          "output_type": "execute_result"
        }
      ]
    },
    {
      "cell_type": "code",
      "metadata": {
        "colab": {
          "base_uri": "https://localhost:8080/"
        },
        "id": "38c8f14b-cf2a-4fc2-8098-48c8060e8ae5",
        "outputId": "631a6c32-aed8-437c-89c1-6969d1ba762e"
      },
      "source": [
        "df[\"ram\"].value_counts()"
      ],
      "id": "38c8f14b-cf2a-4fc2-8098-48c8060e8ae5",
      "execution_count": null,
      "outputs": [
        {
          "data": {
            "text/plain": [
              "2.000    1054\n",
              "1.000     540\n",
              "0.512     264\n",
              "0.256     142\n",
              "Name: ram, dtype: int64"
            ]
          },
          "execution_count": 31,
          "metadata": {},
          "output_type": "execute_result"
        }
      ]
    },
    {
      "cell_type": "code",
      "metadata": {
        "colab": {
          "base_uri": "https://localhost:8080/"
        },
        "id": "8c1e47b1-ccbb-4467-9d84-099dc42edb0b",
        "outputId": "6f3fbdb1-d460-4483-d511-07d342ec27ec"
      },
      "source": [
        "df[\"storage\"].value_counts()"
      ],
      "id": "8c1e47b1-ccbb-4467-9d84-099dc42edb0b",
      "execution_count": null,
      "outputs": [
        {
          "data": {
            "text/plain": [
              "32     970\n",
              "16     513\n",
              "8      280\n",
              "4      133\n",
              "2       42\n",
              "64      30\n",
              "3       25\n",
              "256      4\n",
              "512      3\n",
              "Name: storage, dtype: int64"
            ]
          },
          "execution_count": 32,
          "metadata": {},
          "output_type": "execute_result"
        }
      ]
    },
    {
      "cell_type": "code",
      "metadata": {
        "colab": {
          "base_uri": "https://localhost:8080/"
        },
        "id": "2f8e9002-7826-404d-a73e-92f447e91b14",
        "outputId": "94e72815-df12-446e-fb31-2dd54fe57ecf"
      },
      "source": [
        "df[\"brand\"].value_counts(normalize=True)"
      ],
      "id": "2f8e9002-7826-404d-a73e-92f447e91b14",
      "execution_count": null,
      "outputs": [
        {
          "data": {
            "text/plain": [
              "Apple       0.3055\n",
              "Xiaomi      0.1470\n",
              "Asus        0.1430\n",
              "Samsung     0.1425\n",
              "LG          0.1365\n",
              "Motorola    0.1255\n",
              "Name: brand, dtype: float64"
            ]
          },
          "execution_count": 33,
          "metadata": {},
          "output_type": "execute_result"
        }
      ]
    },
    {
      "cell_type": "markdown",
      "metadata": {
        "id": "44b3acee-612b-4665-a211-a43372a38700"
      },
      "source": [
        "## Exploring Data Distribution\n",
        "\n",
        "While all descriptive measures are interesting overall, it's difficult to get a preview of how data is distributed through them alone. So we turn to graphics.\n",
        "\n",
        "The amount of graphics that exists is huge! There are different types of graphics for different purposes. From the point of view of exploratory data analysis, the most common are:\n",
        "\n",
        "- Frequency Charts:\n",
        "    - Bar Chart / Count (for qualitative variables)\n",
        "    - Histogram (for quantitative variables)\n",
        "- Box plot (for quantitative variables)\n",
        "\n",
        "Frequency graphs are useful for showing the distribution of data.\n",
        "\n",
        "The *boxplot* is a graph that attempts to express descriptive measures information (i.e., mean, standard deviation, and quantiles) in a visual way."
      ],
      "id": "44b3acee-612b-4665-a211-a43372a38700"
    },
    {
      "cell_type": "code",
      "metadata": {
        "colab": {
          "base_uri": "https://localhost:8080/",
          "height": 296
        },
        "id": "78fdf10d-fdd5-4ace-b02c-52402d47e982",
        "outputId": "93038103-f8dd-4365-abfe-c31a0ccd00e1"
      },
      "source": [
        "# Bar Chart\n",
        "\n",
        "sns.countplot(data=df, x=\"storage\")"
      ],
      "id": "78fdf10d-fdd5-4ace-b02c-52402d47e982",
      "execution_count": null,
      "outputs": [
        {
          "data": {
            "text/plain": [
              "<AxesSubplot:xlabel='storage', ylabel='count'>"
            ]
          },
          "execution_count": 34,
          "metadata": {},
          "output_type": "execute_result"
        },
        {
          "data": {
            "image/png": "[encoded data removed]",
            "text/plain": [
              "<Figure size 432x288 with 1 Axes>"
            ]
          },
          "metadata": {
            "needs_background": "light"
          },
          "output_type": "display_data"
        }
      ]
    },
    {
      "cell_type": "code",
      "metadata": {
        "colab": {
          "base_uri": "https://localhost:8080/",
          "height": 296
        },
        "id": "ebf30bcf-2d67-4951-97f2-e6b6f6ebe64a",
        "outputId": "4ef54703-dd6c-4465-a4c4-eefc961c890a"
      },
      "source": [
        "# Bar Chart\n",
        "\n",
        "sns.countplot(data=df, x=\"brand\")"
      ],
      "id": "ebf30bcf-2d67-4951-97f2-e6b6f6ebe64a",
      "execution_count": null,
      "outputs": [
        {
          "data": {
            "text/plain": [
              "<AxesSubplot:xlabel='brand', ylabel='count'>"
            ]
          },
          "execution_count": 35,
          "metadata": {},
          "output_type": "execute_result"
        },
        {
          "data": {
            "image/png": "[encoded data removed]",
            "text/plain": [
              "<Figure size 432x288 with 1 Axes>"
            ]
          },
          "metadata": {
            "needs_background": "light"
          },
          "output_type": "display_data"
        }
      ]
    },
    {
      "cell_type": "code",
      "metadata": {
        "colab": {
          "base_uri": "https://localhost:8080/",
          "height": 296
        },
        "id": "09df6ce7-04b7-4ac4-b2ac-de9edd403da9",
        "outputId": "b1f6aa84-ab39-49d6-9844-0e138cec5044"
      },
      "source": [
        "# Bar Chart\n",
        "\n",
        "sns.countplot(data=df, x=\"n_cores\")"
      ],
      "id": "09df6ce7-04b7-4ac4-b2ac-de9edd403da9",
      "execution_count": null,
      "outputs": [
        {
          "data": {
            "text/plain": [
              "<AxesSubplot:xlabel='n_cores', ylabel='count'>"
            ]
          },
          "execution_count": 36,
          "metadata": {},
          "output_type": "execute_result"
        },
        {
          "data": {
            "image/png": "[encoded data removed]",
            "text/plain": [
              "<Figure size 432x288 with 1 Axes>"
            ]
          },
          "metadata": {
            "needs_background": "light"
          },
          "output_type": "display_data"
        }
      ]
    },
    {
      "cell_type": "code",
      "metadata": {
        "colab": {
          "base_uri": "https://localhost:8080/",
          "height": 296
        },
        "id": "7871c188-1633-4b74-9d9c-e324b8909bff",
        "outputId": "ae9c42af-60e5-4c9e-87e2-573787eb05d7"
      },
      "source": [
        "# Bar Chart\n",
        "\n",
        "sns.countplot(data=df, x=\"ram\")"
      ],
      "id": "7871c188-1633-4b74-9d9c-e324b8909bff",
      "execution_count": null,
      "outputs": [
        {
          "data": {
            "text/plain": [
              "<AxesSubplot:xlabel='ram', ylabel='count'>"
            ]
          },
          "execution_count": 37,
          "metadata": {},
          "output_type": "execute_result"
        },
        {
          "data": {
            "image/png": "[encoded data removed]",
            "text/plain": [
              "<Figure size 432x288 with 1 Axes>"
            ]
          },
          "metadata": {
            "needs_background": "light"
          },
          "output_type": "display_data"
        }
      ]
    },
    {
      "cell_type": "code",
      "metadata": {
        "colab": {
          "base_uri": "https://localhost:8080/",
          "height": 386
        },
        "id": "5d55680e-f64c-481a-9b75-e36382f38be8",
        "outputId": "ead7d03c-db4a-4516-a925-e70364cad11f"
      },
      "source": [
        "# Histogram\n",
        "\n",
        "# sns.displot(data=df, x=\"battery_duration\", bins=10)\n",
        "sns.displot(data=df[df[\"battery_duration\"]>=0], x=\"battery_duration\")"
      ],
      "id": "5d55680e-f64c-481a-9b75-e36382f38be8",
      "execution_count": null,
      "outputs": [
        {
          "data": {
            "text/plain": [
              "<seaborn.axisgrid.FacetGrid at 0x7fb8bab45730>"
            ]
          },
          "execution_count": 38,
          "metadata": {},
          "output_type": "execute_result"
        },
        {
          "data": {
            "image/png": "[encoded data removed]",
            "text/plain": [
              "<Figure size 360x360 with 1 Axes>"
            ]
          },
          "metadata": {
            "needs_background": "light"
          },
          "output_type": "display_data"
        }
      ]
    },
    {
      "cell_type": "code",
      "metadata": {
        "colab": {
          "base_uri": "https://localhost:8080/",
          "height": 386
        },
        "id": "37a63dd4-1794-4414-a30f-fade685ebeb1",
        "outputId": "be78bece-cc1f-40a5-fc01-70cfb9ebbb72"
      },
      "source": [
        "# Função Densidade de Probabilidade via Kernel Density Estimation (KDE)\n",
        "\n",
        "sns.displot(data=df, x=\"battery_duration\", kind=\"kde\")"
      ],
      "id": "37a63dd4-1794-4414-a30f-fade685ebeb1",
      "execution_count": null,
      "outputs": [
        {
          "data": {
            "text/plain": [
              "<seaborn.axisgrid.FacetGrid at 0x7fb8ba8729a0>"
            ]
          },
          "execution_count": 39,
          "metadata": {},
          "output_type": "execute_result"
        },
        {
          "data": {
            "image/png": "[encoded data removed]",
            "text/plain": [
              "<Figure size 360x360 with 1 Axes>"
            ]
          },
          "metadata": {
            "needs_background": "light"
          },
          "output_type": "display_data"
        }
      ]
    },
    {
      "cell_type": "code",
      "metadata": {
        "colab": {
          "base_uri": "https://localhost:8080/",
          "height": 386
        },
        "id": "99f7880e-07ea-4a03-a279-6d83aece43c8",
        "outputId": "a248a4a2-fc12-42a4-cbd1-a15c5434f74f"
      },
      "source": [
        "# Histogram with Probability Density Function\n",
        "\n",
        "sns.displot(data=df, x=\"battery_duration\", kde=True)"
      ],
      "id": "99f7880e-07ea-4a03-a279-6d83aece43c8",
      "execution_count": null,
      "outputs": [
        {
          "data": {
            "text/plain": [
              "<seaborn.axisgrid.FacetGrid at 0x7fb8ba7ecd00>"
            ]
          },
          "execution_count": 40,
          "metadata": {},
          "output_type": "execute_result"
        },
        {
          "data": {
            "image/png": "[encoded data removed]",
            "text/plain": [
              "<Figure size 360x360 with 1 Axes>"
            ]
          },
          "metadata": {
            "needs_background": "light"
          },
          "output_type": "display_data"
        }
      ]
    },
    {
      "cell_type": "code",
      "metadata": {
        "colab": {
          "base_uri": "https://localhost:8080/",
          "height": 386
        },
        "id": "ca99f124-2eef-417e-b818-eba9f48ded42",
        "outputId": "e3047145-69b0-4cad-d6dd-4a50cea19569"
      },
      "source": [
        "# Histogram with Probability Density Function\n",
        "\n",
        "sns.displot(data=df, x=\"price\", kde=True)"
      ],
      "id": "ca99f124-2eef-417e-b818-eba9f48ded42",
      "execution_count": null,
      "outputs": [
        {
          "data": {
            "text/plain": [
              "<seaborn.axisgrid.FacetGrid at 0x7fb8ba898f70>"
            ]
          },
          "execution_count": 41,
          "metadata": {},
          "output_type": "execute_result"
        },
        {
          "data": {
            "image/png": "[encoded data removed]",
            "text/plain": [
              "<Figure size 360x360 with 1 Axes>"
            ]
          },
          "metadata": {
            "needs_background": "light"
          },
          "output_type": "display_data"
        }
      ]
    },
    {
      "cell_type": "code",
      "metadata": {
        "colab": {
          "base_uri": "https://localhost:8080/",
          "height": 386
        },
        "id": "677d9b2c-0b93-4fb9-bd91-0c008f5a3fcc",
        "outputId": "0cc2b6ff-3dbe-4582-ff5f-456d9a6b8437"
      },
      "source": [
        "# Histogram with Probability Density Function\n",
        "\n",
        "sns.displot(data=df[df[\"price\"] > 0], x=\"price\", kde=True)"
      ],
      "id": "677d9b2c-0b93-4fb9-bd91-0c008f5a3fcc",
      "execution_count": null,
      "outputs": [
        {
          "data": {
            "text/plain": [
              "<seaborn.axisgrid.FacetGrid at 0x7fb8b86fdcd0>"
            ]
          },
          "execution_count": 42,
          "metadata": {},
          "output_type": "execute_result"
        },
        {
          "data": {
            "image/png": "[encoded data removed]",
            "text/plain": [
              "<Figure size 360x360 with 1 Axes>"
            ]
          },
          "metadata": {
            "needs_background": "light"
          },
          "output_type": "display_data"
        }
      ]
    },
    {
      "cell_type": "code",
      "metadata": {
        "colab": {
          "base_uri": "https://localhost:8080/",
          "height": 296
        },
        "id": "b50972d6-6121-478c-afb9-c2c60aacad08",
        "outputId": "6f5f4246-313e-4f61-c69f-cf908cb8d2b6"
      },
      "source": [
        "# Boxplot\n",
        "\n",
        "sns.boxplot(data=df, x=\"price\")"
      ],
      "id": "b50972d6-6121-478c-afb9-c2c60aacad08",
      "execution_count": null,
      "outputs": [
        {
          "data": {
            "text/plain": [
              "<AxesSubplot:xlabel='price'>"
            ]
          },
          "execution_count": 43,
          "metadata": {},
          "output_type": "execute_result"
        },
        {
          "data": {
            "image/png": "[encoded data removed]",
            "text/plain": [
              "<Figure size 432x288 with 1 Axes>"
            ]
          },
          "metadata": {
            "needs_background": "light"
          },
          "output_type": "display_data"
        }
      ]
    },
    {
      "cell_type": "code",
      "metadata": {
        "colab": {
          "base_uri": "https://localhost:8080/",
          "height": 296
        },
        "id": "bdd7578a-aca9-4c3b-af17-82e2d2640eb6",
        "outputId": "a9acb234-7e2d-4f6d-b0ab-081cc6464ba1"
      },
      "source": [
        "sns.boxplot(data=df[df[\"price\"] > 0], x=\"price\")"
      ],
      "id": "bdd7578a-aca9-4c3b-af17-82e2d2640eb6",
      "execution_count": null,
      "outputs": [
        {
          "data": {
            "text/plain": [
              "<AxesSubplot:xlabel='price'>"
            ]
          },
          "execution_count": 44,
          "metadata": {},
          "output_type": "execute_result"
        },
        {
          "data": {
            "image/png": "[encoded data removed]",
            "text/plain": [
              "<Figure size 432x288 with 1 Axes>"
            ]
          },
          "metadata": {
            "needs_background": "light"
          },
          "output_type": "display_data"
        }
      ]
    },
    {
      "cell_type": "code",
      "metadata": {
        "colab": {
          "base_uri": "https://localhost:8080/"
        },
        "id": "7af2fb76-0f4c-4294-8c8b-856ef1f36166",
        "outputId": "a5bf6cb0-9083-4291-b19d-f3864d1b0bf9"
      },
      "source": [
        "df.loc[df[\"price\"] > 0, \"price\"].describe()"
      ],
      "id": "7af2fb76-0f4c-4294-8c8b-856ef1f36166",
      "execution_count": null,
      "outputs": [
        {
          "data": {
            "text/plain": [
              "count    1988.000000\n",
              "mean     1204.298456\n",
              "std       482.557510\n",
              "min        21.271599\n",
              "25%       864.100158\n",
              "50%      1192.646429\n",
              "75%      1541.903733\n",
              "max      2777.170980\n",
              "Name: price, dtype: float64"
            ]
          },
          "execution_count": 45,
          "metadata": {},
          "output_type": "execute_result"
        }
      ]
    },
    {
      "cell_type": "code",
      "metadata": {
        "id": "03c22d02-4379-4341-a15d-7dada9448061"
      },
      "source": [
        "# df.to_csv(\"interim.csv\", index=False)"
      ],
      "id": "03c22d02-4379-4341-a15d-7dada9448061",
      "execution_count": null,
      "outputs": []
    },
    {
      "cell_type": "markdown",
      "metadata": {
        "id": "15eba1c4-a06b-497a-9240-d3ac3fb3df3f"
      },
      "source": [
        "## References\n",
        "\n",
        "- [Practical Statistics for Data Scientists, 2nd Edition by Peter Bruce et al](https://www.oreilly.com/library/view/practical-statistics-for/9781492072935/)\n",
        "- [Statistics: The Art and Science of Learning from Data, 4th Edition by Alan Agresti](https://www.pearson.com/us/higher-education/product/Agresti-Statistics-The-Art-and-Science-of-Learning-from-Data-4th-Edition/9780321997838.html)"
      ],
      "id": "15eba1c4-a06b-497a-9240-d3ac3fb3df3f"
    }
  ]
}